{
 "cells": [
  {
   "cell_type": "code",
   "execution_count": 1,
   "metadata": {},
   "outputs": [],
   "source": [
    "import pickle\n",
    "from sklearn.naive_bayes import MultinomialNB, GaussianNB, BernoulliNB, ComplementNB\n",
    "from sklearn.svm import SVC\n",
    "from sklearn.ensemble import RandomForestClassifier, GradientBoostingClassifier\n",
    "from sklearn.metrics import accuracy_score, classification_report\n",
    "from sklearn.model_selection import GridSearchCV"
   ]
  },
  {
   "cell_type": "code",
   "execution_count": 2,
   "metadata": {},
   "outputs": [],
   "source": [
    "# loading data\n",
    "with open('/Users/osiprovin/freelance_1/Spam Filter Project/Data/data.pkl', 'rb') as f:\n",
    "    data = pickle.load(f)"
   ]
  },
  {
   "cell_type": "code",
   "execution_count": 3,
   "metadata": {},
   "outputs": [],
   "source": [
    "# unpacking data\n",
    "trainx = data[\"trainx\"]\n",
    "trainy = data[\"trainy\"]\n",
    "testx = data[\"testx\"]\n",
    "testy = data[\"testy\"]"
   ]
  },
  {
   "cell_type": "code",
   "execution_count": 4,
   "metadata": {},
   "outputs": [],
   "source": [
    "models = {\"Multinomial Naive Bayes\": MultinomialNB(),\n",
    "          \"Support Vector Machine\": SVC(),\n",
    "          \"Random Forest\": RandomForestClassifier(),\n",
    "          \"Gradient Boosting\": GradientBoostingClassifier(),\n",
    "          \"BernoulliNB\": BernoulliNB(),\n",
    "          \"ComplementNB\": ComplementNB()}"
   ]
  },
  {
   "cell_type": "code",
   "execution_count": 5,
   "metadata": {},
   "outputs": [
    {
     "name": "stdout",
     "output_type": "stream",
     "text": [
      "Model: Multinomial Naive Bayes\n",
      "Accuracy: 0.9766816143497757\n",
      "Classification Report:\n",
      "              precision    recall  f1-score   support\n",
      "\n",
      "          -1       0.99      0.99      0.99       978\n",
      "           1       0.91      0.90      0.90       137\n",
      "\n",
      "    accuracy                           0.98      1115\n",
      "   macro avg       0.95      0.94      0.95      1115\n",
      "weighted avg       0.98      0.98      0.98      1115\n",
      "\n",
      "----------------------------------\n",
      "\n"
     ]
    },
    {
     "name": "stderr",
     "output_type": "stream",
     "text": [
      "/Library/Frameworks/Python.framework/Versions/3.10/lib/python3.10/site-packages/sklearn/metrics/_classification.py:1344: UndefinedMetricWarning: Precision and F-score are ill-defined and being set to 0.0 in labels with no predicted samples. Use `zero_division` parameter to control this behavior.\n",
      "  _warn_prf(average, modifier, msg_start, len(result))\n",
      "/Library/Frameworks/Python.framework/Versions/3.10/lib/python3.10/site-packages/sklearn/metrics/_classification.py:1344: UndefinedMetricWarning: Precision and F-score are ill-defined and being set to 0.0 in labels with no predicted samples. Use `zero_division` parameter to control this behavior.\n",
      "  _warn_prf(average, modifier, msg_start, len(result))\n",
      "/Library/Frameworks/Python.framework/Versions/3.10/lib/python3.10/site-packages/sklearn/metrics/_classification.py:1344: UndefinedMetricWarning: Precision and F-score are ill-defined and being set to 0.0 in labels with no predicted samples. Use `zero_division` parameter to control this behavior.\n",
      "  _warn_prf(average, modifier, msg_start, len(result))\n"
     ]
    },
    {
     "name": "stdout",
     "output_type": "stream",
     "text": [
      "Model: Support Vector Machine\n",
      "Accuracy: 0.8771300448430494\n",
      "Classification Report:\n",
      "              precision    recall  f1-score   support\n",
      "\n",
      "          -1       0.88      1.00      0.93       978\n",
      "           1       0.00      0.00      0.00       137\n",
      "\n",
      "    accuracy                           0.88      1115\n",
      "   macro avg       0.44      0.50      0.47      1115\n",
      "weighted avg       0.77      0.88      0.82      1115\n",
      "\n",
      "----------------------------------\n",
      "\n",
      "Model: Random Forest\n",
      "Accuracy: 0.884304932735426\n",
      "Classification Report:\n",
      "              precision    recall  f1-score   support\n",
      "\n",
      "          -1       0.88      1.00      0.94       978\n",
      "           1       1.00      0.06      0.11       137\n",
      "\n",
      "    accuracy                           0.88      1115\n",
      "   macro avg       0.94      0.53      0.52      1115\n",
      "weighted avg       0.90      0.88      0.84      1115\n",
      "\n",
      "----------------------------------\n",
      "\n",
      "Model: Gradient Boosting\n",
      "Accuracy: 0.8977578475336323\n",
      "Classification Report:\n",
      "              precision    recall  f1-score   support\n",
      "\n",
      "          -1       0.90      1.00      0.94       978\n",
      "           1       1.00      0.17      0.29       137\n",
      "\n",
      "    accuracy                           0.90      1115\n",
      "   macro avg       0.95      0.58      0.62      1115\n",
      "weighted avg       0.91      0.90      0.86      1115\n",
      "\n",
      "----------------------------------\n",
      "\n",
      "Model: BernoulliNB\n",
      "Accuracy: 0.8914798206278027\n",
      "Classification Report:\n",
      "              precision    recall  f1-score   support\n",
      "\n",
      "          -1       0.89      1.00      0.94       978\n",
      "           1       1.00      0.12      0.21       137\n",
      "\n",
      "    accuracy                           0.89      1115\n",
      "   macro avg       0.94      0.56      0.58      1115\n",
      "weighted avg       0.90      0.89      0.85      1115\n",
      "\n",
      "----------------------------------\n",
      "\n",
      "Model: ComplementNB\n",
      "Accuracy: 0.9291479820627803\n",
      "Classification Report:\n",
      "              precision    recall  f1-score   support\n",
      "\n",
      "          -1       0.99      0.93      0.96       978\n",
      "           1       0.64      0.95      0.77       137\n",
      "\n",
      "    accuracy                           0.93      1115\n",
      "   macro avg       0.82      0.94      0.86      1115\n",
      "weighted avg       0.95      0.93      0.93      1115\n",
      "\n",
      "----------------------------------\n",
      "\n"
     ]
    }
   ],
   "source": [
    "for name, model in models.items():\n",
    "    model.fit(trainx, trainy)\n",
    "    prediction = model.predict(testx)\n",
    "    accuracy = accuracy_score(testy, prediction)\n",
    "    report = classification_report(testy, prediction)\n",
    "    \n",
    "    print(f\"Model: {name}\")\n",
    "    print(f\"Accuracy: {accuracy}\")\n",
    "    print(\"Classification Report:\")\n",
    "    print(report)\n",
    "    print(\"----------------------------------\\n\")"
   ]
  },
  {
   "cell_type": "code",
   "execution_count": 6,
   "metadata": {},
   "outputs": [
    {
     "name": "stdout",
     "output_type": "stream",
     "text": [
      "Fitting 5 folds for each of 250 candidates, totalling 1250 fits\n",
      "Best parameters found by GridSearchCV: {'alpha': 1.1855020080321284}\n"
     ]
    }
   ],
   "source": [
    "from sklearn.model_selection import GridSearchCV\n",
    "from sklearn.naive_bayes import MultinomialNB\n",
    "import numpy as np\n",
    "\n",
    "# Creating parameters grid for hyperparameter selection\n",
    "param_grid = {\n",
    "    'alpha': np.linspace(0.001, 5, 250)\n",
    "}\n",
    "\n",
    "# Creating MultinomialNB model\n",
    "nb = MultinomialNB()\n",
    "\n",
    "# Selecting best parameters using GridSearchCV\n",
    "grid_search = GridSearchCV(estimator=nb, param_grid=param_grid, cv=5, scoring='accuracy', verbose=1)\n",
    "\n",
    "# Fitting model with selected parameters\n",
    "grid_search.fit(trainx, trainy)\n",
    "\n",
    "# Outputting best hyperparameters\n",
    "print(\"Best parameters found by GridSearchCV:\", grid_search.best_params_)\n"
   ]
  },
  {
   "cell_type": "code",
   "execution_count": 7,
   "metadata": {},
   "outputs": [
    {
     "name": "stdout",
     "output_type": "stream",
     "text": [
      "Accuracy: 0.97847533632287\n",
      "Classification Report:\n",
      "              precision    recall  f1-score   support\n",
      "\n",
      "          -1       0.99      0.99      0.99       978\n",
      "           1       0.91      0.91      0.91       137\n",
      "\n",
      "    accuracy                           0.98      1115\n",
      "   macro avg       0.95      0.95      0.95      1115\n",
      "weighted avg       0.98      0.98      0.98      1115\n",
      "\n"
     ]
    }
   ],
   "source": [
    "# predicting with improved model\n",
    "prediction = grid_search.predict(testx)\n",
    "\n",
    "accuracy = accuracy_score(testy, prediction)\n",
    "report = classification_report(testy, prediction)\n",
    "\n",
    "print(f\"Accuracy: {accuracy}\")\n",
    "print(\"Classification Report:\")\n",
    "print(report)"
   ]
  },
  {
   "cell_type": "code",
   "execution_count": 8,
   "metadata": {},
   "outputs": [],
   "source": [
    "with open(\"/Users/osiprovin/freelance_1/Spam Filter Project/Data/model.pkl\", \"wb\") as f:\n",
    "    pickle.dump(grid_search, f)"
   ]
  }
 ],
 "metadata": {
  "kernelspec": {
   "display_name": "Python 3",
   "language": "python",
   "name": "python3"
  },
  "language_info": {
   "codemirror_mode": {
    "name": "ipython",
    "version": 3
   },
   "file_extension": ".py",
   "mimetype": "text/x-python",
   "name": "python",
   "nbconvert_exporter": "python",
   "pygments_lexer": "ipython3",
   "version": "3.10.5"
  }
 },
 "nbformat": 4,
 "nbformat_minor": 2
}
